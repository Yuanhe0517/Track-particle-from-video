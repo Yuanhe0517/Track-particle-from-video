{
 "cells": [
  {
   "cell_type": "code",
   "execution_count": 2,
   "id": "f58b04ca",
   "metadata": {},
   "outputs": [
    {
     "name": "stderr",
     "output_type": "stream",
     "text": [
      "D:\\Softwares\\coding\\python\\miniconda\\envs\\python_3.9\\lib\\site-packages\\pims\\image_reader.py:26: RuntimeWarning: PIMS image_reader.py could not find scikit-image. Falling back to matplotlib's imread(), which uses floats instead of integers. This may break your scripts. \n",
      "(To ignore this warning, include the line \"warnings.simplefilter(\"ignore\", RuntimeWarning)\" in your script.)\n",
      "  warnings.warn(RuntimeWarning(ski_preferred))\n"
     ]
    }
   ],
   "source": [
    "import trackpy as tp\n",
    "import pims\n",
    "import h5py\n",
    "import math\n",
    "import numpy as np\n",
    "import matplotlib.pyplot as plt\n",
    "import pandas as pd\n",
    "import cv2\n",
    "from scipy.spatial import voronoi_plot_2d\n",
    "from scipy.spatial import Voronoi as ScipyVoronoi\n",
    "from scipy.spatial import distance\n",
    "from pandas import DataFrame, Series  # for convenience"
   ]
  },
  {
   "cell_type": "code",
   "execution_count": 3,
   "id": "a119639a",
   "metadata": {},
   "outputs": [],
   "source": [
    "@pims.pipeline\n",
    "def gray(image):\n",
    "    return image[:, :, 1]  # Take just the green channel\n",
    "\n",
    "frames = gray(pims.open('C:/Users/92163/Desktop/some paper/intern/SCI_2/SCI_2.mov'))\n",
    "pic=gray(pims.open('C:/Users/92163/Desktop/some paper/intern/SCI_2/25.png'))"
   ]
  },
  {
   "cell_type": "code",
   "execution_count": 4,
   "id": "0ee61074",
   "metadata": {
    "scrolled": true
   },
   "outputs": [],
   "source": [
    "video=[]\n",
    "i=0\n",
    "for frame in frames[:]:\n",
    "    video.append(frame[0:292,:]/255)  \n"
   ]
  },
  {
   "cell_type": "code",
   "execution_count": 34,
   "id": "71cc9c43",
   "metadata": {
    "scrolled": true
   },
   "outputs": [
    {
     "data": {
      "image/png": "[encoded data removed]",
      "text/plain": [
       "<Figure size 432x288 with 1 Axes>"
      ]
     },
     "metadata": {
      "needs_background": "light"
     },
     "output_type": "display_data"
    }
   ],
   "source": [
    "f=tp.locate(video[0],3,invert=True,)\n",
    "fig, ax = plt.subplots()\n",
    "ax.hist(f['mass'], bins=100,width=0.01)\n",
    "\n",
    "# Optionally, label the axes.\n",
    "ax.set(xlabel='mass', ylabel='count');"
   ]
  },
  {
   "cell_type": "markdown",
   "id": "e5689553",
   "metadata": {},
   "source": [
    "确认好了video的参数，开始batch"
   ]
  },
  {
   "cell_type": "code",
   "execution_count": 88,
   "id": "f21e66b0",
   "metadata": {
    "scrolled": false
   },
   "outputs": [
    {
     "name": "stdout",
     "output_type": "stream",
     "text": [
      "Frame 999: 590 features\n"
     ]
    }
   ],
   "source": [
    "f = tp.batch(video[500:1000], 3,invert=True,processes=4,minmass=0.042)"
   ]
  },
  {
   "cell_type": "code",
   "execution_count": 89,
   "id": "615debd2",
   "metadata": {
    "scrolled": true
   },
   "outputs": [
    {
     "data": {
      "text/html": [
       "<div>\n",
       "<style scoped>\n",
       "    .dataframe tbody tr th:only-of-type {\n",
       "        vertical-align: middle;\n",
       "    }\n",
       "\n",
       "    .dataframe tbody tr th {\n",
       "        vertical-align: top;\n",
       "    }\n",
       "\n",
       "    .dataframe thead th {\n",
       "        text-align: right;\n",
       "    }\n",
       "</style>\n",
       "<table border=\"1\" class=\"dataframe\">\n",
       "  <thead>\n",
       "    <tr style=\"text-align: right;\">\n",
       "      <th></th>\n",
       "      <th>y</th>\n",
       "      <th>x</th>\n",
       "      <th>mass</th>\n",
       "      <th>size</th>\n",
       "      <th>ecc</th>\n",
       "      <th>signal</th>\n",
       "      <th>raw_mass</th>\n",
       "      <th>ep</th>\n",
       "      <th>frame</th>\n",
       "    </tr>\n",
       "  </thead>\n",
       "  <tbody>\n",
       "    <tr>\n",
       "      <th>0</th>\n",
       "      <td>2.257042</td>\n",
       "      <td>89.922535</td>\n",
       "      <td>0.056191</td>\n",
       "      <td>0.811450</td>\n",
       "      <td>0.737968</td>\n",
       "      <td>0.019192</td>\n",
       "      <td>0.792157</td>\n",
       "      <td>-0.251698</td>\n",
       "      <td>500</td>\n",
       "    </tr>\n",
       "    <tr>\n",
       "      <th>1</th>\n",
       "      <td>2.285285</td>\n",
       "      <td>123.786787</td>\n",
       "      <td>0.065886</td>\n",
       "      <td>0.797895</td>\n",
       "      <td>0.674528</td>\n",
       "      <td>0.023941</td>\n",
       "      <td>0.572549</td>\n",
       "      <td>-0.163511</td>\n",
       "      <td>500</td>\n",
       "    </tr>\n",
       "    <tr>\n",
       "      <th>2</th>\n",
       "      <td>1.883191</td>\n",
       "      <td>137.025641</td>\n",
       "      <td>0.069448</td>\n",
       "      <td>0.712125</td>\n",
       "      <td>1.511236</td>\n",
       "      <td>0.034229</td>\n",
       "      <td>0.376471</td>\n",
       "      <td>-0.124549</td>\n",
       "      <td>500</td>\n",
       "    </tr>\n",
       "    <tr>\n",
       "      <th>3</th>\n",
       "      <td>2.205195</td>\n",
       "      <td>358.989610</td>\n",
       "      <td>0.076175</td>\n",
       "      <td>0.750757</td>\n",
       "      <td>1.046083</td>\n",
       "      <td>0.033240</td>\n",
       "      <td>0.443137</td>\n",
       "      <td>-0.135529</td>\n",
       "      <td>500</td>\n",
       "    </tr>\n",
       "    <tr>\n",
       "      <th>4</th>\n",
       "      <td>2.213058</td>\n",
       "      <td>363.865979</td>\n",
       "      <td>0.057576</td>\n",
       "      <td>0.725102</td>\n",
       "      <td>1.091503</td>\n",
       "      <td>0.027304</td>\n",
       "      <td>0.447059</td>\n",
       "      <td>-0.136235</td>\n",
       "      <td>500</td>\n",
       "    </tr>\n",
       "    <tr>\n",
       "      <th>...</th>\n",
       "      <td>...</td>\n",
       "      <td>...</td>\n",
       "      <td>...</td>\n",
       "      <td>...</td>\n",
       "      <td>...</td>\n",
       "      <td>...</td>\n",
       "      <td>...</td>\n",
       "      <td>...</td>\n",
       "      <td>...</td>\n",
       "    </tr>\n",
       "    <tr>\n",
       "      <th>382578</th>\n",
       "      <td>286.911538</td>\n",
       "      <td>369.846154</td>\n",
       "      <td>0.106229</td>\n",
       "      <td>0.815711</td>\n",
       "      <td>0.034682</td>\n",
       "      <td>0.035546</td>\n",
       "      <td>0.188235</td>\n",
       "      <td>-0.095924</td>\n",
       "      <td>999</td>\n",
       "    </tr>\n",
       "    <tr>\n",
       "      <th>382579</th>\n",
       "      <td>287.864769</td>\n",
       "      <td>63.081851</td>\n",
       "      <td>0.057404</td>\n",
       "      <td>0.854130</td>\n",
       "      <td>0.297561</td>\n",
       "      <td>0.015526</td>\n",
       "      <td>0.800000</td>\n",
       "      <td>-0.254879</td>\n",
       "      <td>999</td>\n",
       "    </tr>\n",
       "    <tr>\n",
       "      <th>382580</th>\n",
       "      <td>289.212544</td>\n",
       "      <td>178.885017</td>\n",
       "      <td>0.058630</td>\n",
       "      <td>0.732520</td>\n",
       "      <td>0.292208</td>\n",
       "      <td>0.027170</td>\n",
       "      <td>0.262745</td>\n",
       "      <td>-0.103809</td>\n",
       "      <td>999</td>\n",
       "    </tr>\n",
       "    <tr>\n",
       "      <th>382581</th>\n",
       "      <td>288.887324</td>\n",
       "      <td>280.235915</td>\n",
       "      <td>0.058017</td>\n",
       "      <td>0.704613</td>\n",
       "      <td>1.560284</td>\n",
       "      <td>0.029213</td>\n",
       "      <td>0.156863</td>\n",
       "      <td>-0.092952</td>\n",
       "      <td>999</td>\n",
       "    </tr>\n",
       "    <tr>\n",
       "      <th>382582</th>\n",
       "      <td>288.783550</td>\n",
       "      <td>299.662338</td>\n",
       "      <td>0.047190</td>\n",
       "      <td>0.744387</td>\n",
       "      <td>1.023437</td>\n",
       "      <td>0.021041</td>\n",
       "      <td>0.329412</td>\n",
       "      <td>-0.112051</td>\n",
       "      <td>999</td>\n",
       "    </tr>\n",
       "  </tbody>\n",
       "</table>\n",
       "<p>382583 rows × 9 columns</p>\n",
       "</div>"
      ],
      "text/plain": [
       "                 y           x      mass      size       ecc    signal  \\\n",
       "0         2.257042   89.922535  0.056191  0.811450  0.737968  0.019192   \n",
       "1         2.285285  123.786787  0.065886  0.797895  0.674528  0.023941   \n",
       "2         1.883191  137.025641  0.069448  0.712125  1.511236  0.034229   \n",
       "3         2.205195  358.989610  0.076175  0.750757  1.046083  0.033240   \n",
       "4         2.213058  363.865979  0.057576  0.725102  1.091503  0.027304   \n",
       "...            ...         ...       ...       ...       ...       ...   \n",
       "382578  286.911538  369.846154  0.106229  0.815711  0.034682  0.035546   \n",
       "382579  287.864769   63.081851  0.057404  0.854130  0.297561  0.015526   \n",
       "382580  289.212544  178.885017  0.058630  0.732520  0.292208  0.027170   \n",
       "382581  288.887324  280.235915  0.058017  0.704613  1.560284  0.029213   \n",
       "382582  288.783550  299.662338  0.047190  0.744387  1.023437  0.021041   \n",
       "\n",
       "        raw_mass        ep  frame  \n",
       "0       0.792157 -0.251698    500  \n",
       "1       0.572549 -0.163511    500  \n",
       "2       0.376471 -0.124549    500  \n",
       "3       0.443137 -0.135529    500  \n",
       "4       0.447059 -0.136235    500  \n",
       "...          ...       ...    ...  \n",
       "382578  0.188235 -0.095924    999  \n",
       "382579  0.800000 -0.254879    999  \n",
       "382580  0.262745 -0.103809    999  \n",
       "382581  0.156863 -0.092952    999  \n",
       "382582  0.329412 -0.112051    999  \n",
       "\n",
       "[382583 rows x 9 columns]"
      ]
     },
     "execution_count": 89,
     "metadata": {},
     "output_type": "execute_result"
    }
   ],
   "source": [
    "f"
   ]
  },
  {
   "cell_type": "code",
   "execution_count": 97,
   "id": "894ab7f3",
   "metadata": {
    "scrolled": false
   },
   "outputs": [
    {
     "data": {
      "text/plain": [
       "0         500\n",
       "1         500\n",
       "2         500\n",
       "3         500\n",
       "4         500\n",
       "         ... \n",
       "382578    999\n",
       "382579    999\n",
       "382580    999\n",
       "382581    999\n",
       "382582    999\n",
       "Name: frame, Length: 382583, dtype: int64"
      ]
     },
     "execution_count": 97,
     "metadata": {},
     "output_type": "execute_result"
    }
   ],
   "source": [
    "f['frame']"
   ]
  },
  {
   "cell_type": "markdown",
   "id": "47ee99c3",
   "metadata": {},
   "source": [
    "计算H_Ndist:"
   ]
  },
  {
   "cell_type": "code",
   "execution_count": 90,
   "id": "97e363f7",
   "metadata": {},
   "outputs": [],
   "source": [
    "H=[]"
   ]
  },
  {
   "cell_type": "markdown",
   "id": "61c90744",
   "metadata": {},
   "source": [
    "定义几个函数："
   ]
  },
  {
   "cell_type": "code",
   "execution_count": 8,
   "id": "b169894d",
   "metadata": {},
   "outputs": [],
   "source": [
    "# 3. define a function to convert adjancency_list (e.g.2D array:[[0,1],[0,2],[1,2]]) which means particle 0 connect with 1 and 2, and particle 1 also connect to particle 2) into adjancency_matrix\n",
    "#[011\n",
    "# 101\n",
    "# 110]   note: this should be a symmetric matrix\n",
    "\n",
    "def neighbour_pair_list_to_matrix(num_of_pts, nlist):\n",
    "    \"\"\"\n",
    "    :param num_of_pts: number of points (boids, rafts...)\n",
    "    :param nlist: neighbour list; shape (num_of_pts, 2); integer are row# (or col#) of position array\n",
    "    :return: ngb_mask: neighbour mask array\n",
    "    \"\"\"\n",
    "    ngb_mask = np.zeros((num_of_pts, num_of_pts))\n",
    "    ngb_mask[nlist[:, 0], nlist[:, 1]] = 1\n",
    "    ngb_mask[nlist[:, 1], nlist[:, 0]] = 1\n",
    "    # use np.allclose() to check if the array is symmetric.\n",
    "    #np.allclose(ngb_mask, ngb_mask.T)\n",
    "    return ngb_mask\n"
   ]
  },
  {
   "cell_type": "code",
   "execution_count": 9,
   "id": "9801b67e",
   "metadata": {},
   "outputs": [],
   "source": [
    "#5. define a function to calculate the H_ndist\n",
    "def compute_h_ndist(ndistances, bin_edges):\n",
    "    \"\"\"\n",
    "    :param ndistances: neighbour distances\n",
    "    :param bin_edges: bin edges\n",
    "    :return: (h_ndist, h_ndist_adjusted, h_ndist_normalized)\n",
    "    \"\"\"\n",
    "    c, edge_arr = np.histogram(ndistances, bin_edges)\n",
    "    w = edge_arr[1:] - edge_arr[:-1]  # width of bins\n",
    "    p = c / np.float32(np.sum(c))\n",
    "    p_nonzero = p[np.nonzero(p)]\n",
    "    w_nonzero = w[np.nonzero(p)]\n",
    "    h_ndist = - np.sum(p_nonzero * np.log2(p_nonzero))\n",
    "    h_ndist_adjusted = -np.sum(p_nonzero * np.log2(p_nonzero/w_nonzero))\n",
    "    h_ndist_normalized = h_ndist_adjusted / np.log2(w_nonzero.sum())\n",
    "    return h_ndist, h_ndist_adjusted, h_ndist_normalized"
   ]
  },
  {
   "cell_type": "code",
   "execution_count": 93,
   "id": "cb5f2b25",
   "metadata": {},
   "outputs": [],
   "source": [
    "#1. save the positon of particles and calculate the pair distance matrix\n",
    "for i in range(500,1000):\n",
    "    data=f[f['frame']==i]\n",
    "    position_saved=data.values[:,0:2]\n",
    "    pairwise_distance_matrix = distance.cdist(position_saved[:,:],\n",
    "                                                    position_saved[:,:], 'euclidean') \n",
    "#2. we need to import Voronoi package to define neighbor list\n",
    "    vor = ScipyVoronoi(position_saved)\n",
    "    neighbour_pairs = vor.ridge_points\n",
    "    \n",
    "#3.convert adjancency_list    \n",
    "    n=len(neighbour_pairs)\n",
    "    neighbour_pairs_mask = neighbour_pair_list_to_matrix(n, neighbour_pairs)\n",
    "\n",
    "    #print(np.allclose(neighbour_pairs_mask,neighbour_pairs_mask.T)) #check if symmetric\n",
    "    \n",
    "#4. use the adjancency mask to get rid of pair-distance of whom are not neighbors \n",
    "    neighbour_distances = pairwise_distance_matrix[np.nonzero(neighbour_pairs_mask)]\n",
    "    \n",
    "#5.calculate the H_ndist\n",
    "    bin_edges_ndist = np.arange(0, 300, 2).tolist()   #the bin edge is kind of an emperical parameter which need to be tuned\n",
    "\n",
    "    # calculate the H_Ndist and draw the histogram of neighbor_distances\n",
    "    H_NDist, H_NDist_adj, H_NDist_norm = compute_h_ndist(neighbour_distances, bin_edges_ndist)\n",
    "    count, edge_arr = np.histogram(neighbour_distances, bin_edges_ndist)\n",
    "    H.append(H_NDist_norm)"
   ]
  },
  {
   "cell_type": "markdown",
   "id": "d8093d59",
   "metadata": {},
   "source": [
    "绘制折线图"
   ]
  },
  {
   "cell_type": "code",
   "execution_count": 96,
   "id": "a2977477",
   "metadata": {
    "scrolled": true
   },
   "outputs": [
    {
     "data": {
      "image/png": "[encoded data removed]",
      "text/plain": [
       "<Figure size 432x288 with 1 Axes>"
      ]
     },
     "metadata": {
      "needs_background": "light"
     },
     "output_type": "display_data"
    }
   ],
   "source": [
    "x=range(500,1000)\n",
    "y=H\n",
    "plt.plot(x,y,linewidth=3,color='r',marker='o',markerfacecolor='blue',markersize=3)\n",
    "plt.xlabel('frame')\n",
    "plt.ylabel('H_NDist_norm')\n",
    "plt.show()"
   ]
  },
  {
   "cell_type": "markdown",
   "id": "ec4934ad",
   "metadata": {},
   "source": [
    "调整？"
   ]
  },
  {
   "cell_type": "code",
   "execution_count": 6,
   "id": "6300d508",
   "metadata": {},
   "outputs": [
    {
     "name": "stdout",
     "output_type": "stream",
     "text": [
      "Frame 854: 700 features\n"
     ]
    }
   ],
   "source": [
    "f1 = tp.batch(video[500:855], 3,invert=True,processes=4,minmass=0.042)"
   ]
  },
  {
   "cell_type": "code",
   "execution_count": 7,
   "id": "927dc893",
   "metadata": {
    "scrolled": true
   },
   "outputs": [
    {
     "name": "stdout",
     "output_type": "stream",
     "text": [
      "Frame 999: 620 features\n"
     ]
    }
   ],
   "source": [
    "f2= tp.batch(video[855:1000], 3,invert=True,processes=4)"
   ]
  },
  {
   "cell_type": "code",
   "execution_count": 16,
   "id": "d7b36859",
   "metadata": {},
   "outputs": [],
   "source": [
    "H1=[]"
   ]
  },
  {
   "cell_type": "code",
   "execution_count": 17,
   "id": "29512c19",
   "metadata": {},
   "outputs": [],
   "source": [
    "#1. save the positon of particles and calculate the pair distance matrix\n",
    "for i in range(500,1000):\n",
    "    if i<855:\n",
    "        data=f1[f1['frame']==i]\n",
    "    if i>854:\n",
    "        data=f2[f2['frame']==i]\n",
    "    position_saved=data.values[:,0:2]\n",
    "    pairwise_distance_matrix = distance.cdist(position_saved[:,:],\n",
    "                                                    position_saved[:,:], 'euclidean') \n",
    "#2. we need to import Voronoi package to define neighbor list\n",
    "    vor = ScipyVoronoi(position_saved)\n",
    "    neighbour_pairs = vor.ridge_points\n",
    "    \n",
    "#3.convert adjancency_list    \n",
    "    n=len(neighbour_pairs)\n",
    "    neighbour_pairs_mask = neighbour_pair_list_to_matrix(n, neighbour_pairs)\n",
    "\n",
    "    #print(np.allclose(neighbour_pairs_mask,neighbour_pairs_mask.T)) #check if symmetric\n",
    "    \n",
    "#4. use the adjancency mask to get rid of pair-distance of whom are not neighbors \n",
    "    neighbour_distances = pairwise_distance_matrix[np.nonzero(neighbour_pairs_mask)]\n",
    "    \n",
    "#5.calculate the H_ndist\n",
    "    bin_edges_ndist = np.arange(0, 300, 2).tolist()   #the bin edge is kind of an emperical parameter which need to be tuned\n",
    "\n",
    "    # calculate the H_Ndist and draw the histogram of neighbor_distances\n",
    "    H_NDist, H_NDist_adj, H_NDist_norm = compute_h_ndist(neighbour_distances, bin_edges_ndist)\n",
    "    count, edge_arr = np.histogram(neighbour_distances, bin_edges_ndist)\n",
    "    H1.append(H_NDist_norm)"
   ]
  },
  {
   "cell_type": "code",
   "execution_count": 18,
   "id": "aaaf7a58",
   "metadata": {},
   "outputs": [
    {
     "data": {
      "text/plain": [
       "500"
      ]
     },
     "execution_count": 18,
     "metadata": {},
     "output_type": "execute_result"
    }
   ],
   "source": [
    " len(H1)"
   ]
  },
  {
   "cell_type": "code",
   "execution_count": 19,
   "id": "9ffe6750",
   "metadata": {
    "scrolled": true
   },
   "outputs": [
    {
     "data": {
      "image/png": "[encoded data removed]",
      "text/plain": [
       "<Figure size 432x288 with 1 Axes>"
      ]
     },
     "metadata": {
      "needs_background": "light"
     },
     "output_type": "display_data"
    }
   ],
   "source": [
    "x=range(500,1000)\n",
    "y=H1\n",
    "plt.plot(x,y,linewidth=3,color='r',marker='o',markerfacecolor='blue',markersize=3)\n",
    "plt.xlabel('frame')\n",
    "plt.ylabel('H_NDist_norm')\n",
    "plt.show()"
   ]
  },
  {
   "cell_type": "code",
   "execution_count": null,
   "id": "c0ca254c",
   "metadata": {},
   "outputs": [],
   "source": []
  }
 ],
 "metadata": {
  "kernelspec": {
   "display_name": "Python 3 (ipykernel)",
   "language": "python",
   "name": "python3"
  },
  "language_info": {
   "codemirror_mode": {
    "name": "ipython",
    "version": 3
   },
   "file_extension": ".py",
   "mimetype": "text/x-python",
   "name": "python",
   "nbconvert_exporter": "python",
   "pygments_lexer": "ipython3",
   "version": "3.9.7"
  }
 },
 "nbformat": 4,
 "nbformat_minor": 5
}
